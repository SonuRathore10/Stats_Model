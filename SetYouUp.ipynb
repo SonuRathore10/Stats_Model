{
 "cells": [
  {
   "cell_type": "markdown",
   "id": "88cc816e",
   "metadata": {},
   "source": [
    "# Project Setup\n",
    "\n",
    "This notebook will guide you through setting up your Python environment and downloading the dataset for the project.\n"
   ]
  },
  {
   "cell_type": "code",
   "execution_count": null,
   "id": "abb57d53",
   "metadata": {},
   "outputs": [],
   "source": [
    "# Install Poetry (if not already installed)\n",
    "!pip install poetry"
   ]
  },
  {
   "cell_type": "code",
   "execution_count": 1,
   "id": "3da0ba4d",
   "metadata": {},
   "outputs": [
    {
     "name": "stdout",
     "output_type": "stream",
     "text": [
      "Collecting pyenv-win\n",
      "  Using cached pyenv_win-3.1.1-py3-none-any.whl.metadata (24 kB)\n",
      "Using cached pyenv_win-3.1.1-py3-none-any.whl (3.6 MB)\n",
      "Installing collected packages: pyenv-win\n",
      "Successfully installed pyenv-win-3.1.1\n"
     ]
    },
    {
     "name": "stderr",
     "output_type": "stream",
     "text": [
      "WARNING: Target directory C:\\Users\\agama\\.pyenv\\.version already exists. Specify --upgrade to force replacement.\n",
      "WARNING: Target directory C:\\Users\\agama\\.pyenv\\pyenv-win already exists. Specify --upgrade to force replacement.\n",
      "WARNING: Target directory C:\\Users\\agama\\.pyenv\\pyenv_win-3.1.1.dist-info already exists. Specify --upgrade to force replacement.\n"
     ]
    }
   ],
   "source": [
    "# Install pyenv-win and add to environment variables (if not already installed)\n",
    "!pip install pyenv-win --target %USERPROFILE%\\.pyenv\n",
    "# adding path to environment variable\n",
    "!powershell -Command \"[Environment]::SetEnvironmentVariable('PATH', $env:PATH + ';$env:USERPROFILE\\.pyenv\\pyenv-win\\bin;$env:USERPROFILE\\.pyenv\\pyenv-win\\shims', 'User')\""
   ]
  },
  {
   "cell_type": "code",
   "execution_count": null,
   "id": "3dc2fef2",
   "metadata": {},
   "outputs": [],
   "source": [
    "! where pyenv # Check if pyenv is accessible if not restart the kernel and run again\n",
    "#if still doesn't work install from youtube."
   ]
  },
  {
   "cell_type": "code",
   "execution_count": null,
   "id": "5bea82bd",
   "metadata": {},
   "outputs": [],
   "source": [
    "import os\n",
    "\n",
    "# Install Python 3.11.6 using pyenv\n",
    "os.system('pyenv install 3.11.6')\n",
    "\n",
    "# Set local Python version to 3.11.6\n",
    "os.system('pyenv local 3.11.6')\n",
    "\n",
    "# Install project dependencies with poetry\n",
    "os.system('poetry install')\n",
    "\n"
   ]
  },
  {
   "cell_type": "code",
   "execution_count": null,
   "id": "2d9b7547",
   "metadata": {},
   "outputs": [],
   "source": [
    "# Once everything is set up, you can download the dataset by running the following in your terminal:\n",
    "os.system ('python stats_model/dataset.py')"
   ]
  }
 ],
 "metadata": {
  "kernelspec": {
   "display_name": "telecom-campaign-py3.13",
   "language": "python",
   "name": "python3"
  },
  "language_info": {
   "codemirror_mode": {
    "name": "ipython",
    "version": 3
   },
   "file_extension": ".py",
   "mimetype": "text/x-python",
   "name": "python",
   "nbconvert_exporter": "python",
   "pygments_lexer": "ipython3",
   "version": "3.11.6"
  }
 },
 "nbformat": 4,
 "nbformat_minor": 5
}
